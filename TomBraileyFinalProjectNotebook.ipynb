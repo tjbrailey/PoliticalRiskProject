{
 "cells": [
  {
   "cell_type": "markdown",
   "metadata": {},
   "source": [
    "# Geopolitical Risk Interactive Database"
   ]
  },
  {
   "cell_type": "markdown",
   "metadata": {},
   "source": [
    "##### Thomas J. Brailey (A13319314) "
   ]
  },
  {
   "cell_type": "markdown",
   "metadata": {},
   "source": [
    "### Overview \n",
    "\n",
    "Assessing political risk is essential for a host of diverse actors. From investors, to holidaymakers, to think tanks, being able to effectively ascertain the varying forms and levels of political risk across time and location helps to form actors' strategies when making important decisions. \n",
    "\n",
    "That said, the data that do exist are sparse and often not interpretable to the layperson. While various think tanks and political risk firms (such as Eurasia Group, The PRS Group, and the World Bank) release yearly reports on political risk, the raw data is often not readily useable, and may not be applicable to one's interests. \n",
    "\n",
    "As such, I have designed a minimum viable product of a Geopolitical Risk Interactive Database (GRID), which takes raw data from The PRS Group, cleans it, then allows users to subset and generate graphs and statistical analyses based on their chosen subsets. This product will prove useful for academics, investors, and anyone who wishes to learn more about the risks associated with certain countries at certain time periods. \n",
    "\n",
    "As this is only a minimum viable product, the GRID lends itself to further and more nuanced development. For example, machine learning could be employed to display projections into the future for a given country, allowing investors to more accuratly predict the political and economic climate; datasets could be merged together to provide more detail and greater nuance as to political, economic, social, and environmental risk; or this model could be turned into an interactive website that produces full reports based on the user's inputs and preferences. "
   ]
  },
  {
   "cell_type": "markdown",
   "metadata": {},
   "source": [
    "### Installation \n",
    "\n",
    "Please run these codes in order to access the database."
   ]
  },
  {
   "cell_type": "code",
   "execution_count": null,
   "metadata": {},
   "outputs": [],
   "source": [
    "# A few packages need to be installed for the code to run.\n",
    "import os\n",
    "\n",
    "import pandas as pd\n",
    "import numpy as np\n",
    "import matplotlib.pyplot as plt"
   ]
  },
  {
   "cell_type": "code",
   "execution_count": null,
   "metadata": {},
   "outputs": [],
   "source": [
    "# File path is /TomBraileyFinalProject/\n",
    "os.chdir(\"modules\")\n",
    "from tbrailey_final_project_functions import *\n",
    "from test_functions import *\n",
    "os.chdir(\"../\")"
   ]
  },
  {
   "cell_type": "markdown",
   "metadata": {},
   "source": [
    "### PRS Code Book Information\n",
    "\n",
    "The variable names in the PRS code book are not necessarily intuitive. Below is a list of variables which you can learn more about. Note, \"xx\" is just a placeholder for a given year. Simply input one of the above variables and a description will be provided.\n",
    "\n",
    "* Code \n",
    "* Country\n",
    "* PRSxxCC\n",
    "* PRSxxGE\n",
    "* PRSxxPV\n",
    "* PRSxxRL\n",
    "* PRSxxRQ\n",
    "* PRSxxVA"
   ]
  },
  {
   "cell_type": "code",
   "execution_count": null,
   "metadata": {},
   "outputs": [],
   "source": [
    "prs_code_book_search()"
   ]
  },
  {
   "cell_type": "markdown",
   "metadata": {},
   "source": [
    "### Country Subset\n",
    "\n",
    "Given that the dataset's unit-of-analysis is country, there are a lot of rows. Subset the data by choosing a country you want to learn more about."
   ]
  },
  {
   "cell_type": "code",
   "execution_count": null,
   "metadata": {},
   "outputs": [],
   "source": [
    "my_country = input(\"Please type a country of interest here: \")\n",
    "\n",
    "country_info(my_country)"
   ]
  },
  {
   "cell_type": "markdown",
   "metadata": {},
   "source": [
    "### Country Graphics \n",
    "\n",
    "Viewing raw data is not necessarily intuitive. Below you can graph the political risk scores for your chosen country from 1996 through to 2017."
   ]
  },
  {
   "cell_type": "code",
   "execution_count": null,
   "metadata": {},
   "outputs": [],
   "source": [
    "country_graph(my_country, country_sub = country_info(my_country))"
   ]
  },
  {
   "cell_type": "markdown",
   "metadata": {},
   "source": [
    "### Year Subset\n",
    "\n",
    "Viewing that data is difficult in a notebook given the number of time/risk variables. Here, you can subset your original country by a given year. Subset the data by inputting a numerical year value."
   ]
  },
  {
   "cell_type": "code",
   "execution_count": null,
   "metadata": {},
   "outputs": [],
   "source": [
    "my_year = input(\"Which year for \" + my_country + \" would you like to look at? \")\n",
    "    \n",
    "year_info(my_year, country_sub = country_info(my_country))"
   ]
  },
  {
   "cell_type": "markdown",
   "metadata": {},
   "source": [
    "### Year Graphics\n",
    "\n",
    "While an easy-to-read table is often a good method of data presentation, it can often be more interpretable when presented as a graphic. This function turns the country-year subset into a simple graph."
   ]
  },
  {
   "cell_type": "code",
   "execution_count": null,
   "metadata": {},
   "outputs": [],
   "source": [
    "year_graph(my_year, my_country)"
   ]
  }
 ],
 "metadata": {
  "kernelspec": {
   "display_name": "Python 3",
   "language": "python",
   "name": "python3"
  },
  "language_info": {
   "codemirror_mode": {
    "name": "ipython",
    "version": 3
   },
   "file_extension": ".py",
   "mimetype": "text/x-python",
   "name": "python",
   "nbconvert_exporter": "python",
   "pygments_lexer": "ipython3",
   "version": "3.6.7"
  }
 },
 "nbformat": 4,
 "nbformat_minor": 2
}
