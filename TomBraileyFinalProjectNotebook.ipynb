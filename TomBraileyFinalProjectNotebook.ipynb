{
 "cells": [
  {
   "cell_type": "markdown",
   "metadata": {},
   "source": [
    "# Geopolitical Risk Interactive Database"
   ]
  },
  {
   "cell_type": "markdown",
   "metadata": {},
   "source": [
    "##### Thomas J. Brailey (A13319314) "
   ]
  },
  {
   "cell_type": "markdown",
   "metadata": {},
   "source": [
    "### Overview \n",
    "\n",
    "Assessing political risk is essential for a host of diverse actors. From investors, to holidaymakers, to think tanks, being able to effectively ascertain the varying forms and levels of political risk across time and location helps to form actors' strategies when making important decisions. \n",
    "\n",
    "That said, the data that do exist are sparse and often not interpretable to the layperson. While various think tanks and political risk firms (such as Eurasia Group, The PRS Group, and the World Bank) release yearly reports on political risk, the raw data is often not readily useable, and may not be applicable to one's interests. \n",
    "\n",
    "As such, I have designed a minimum viable product of a Geopolitical Risk Interactive Database (GRID), which takes raw data from The PRS Group, cleans it, then allows users to subset and generate graphs and statistical analyses based on their chosen subsets. This product will prove useful for academics, investors, and anyone who wishes to learn more about the risks associated with certain countries at certain time periods. \n",
    "\n",
    "As this is only a minimum viable product, the GRID lends itself to further and more nuanced development. For example, machine learning could be employed to display projections into the future for a given country, allowing investors to more accuratly predict the political and economic climate; datasets could be merged together to provide more detail and greater nuance as to political, economic, social, and environmental risk; or this model could be turned into an interactive website that produces full reports based on the user's inputs and preferences. "
   ]
  },
  {
   "cell_type": "markdown",
   "metadata": {},
   "source": [
    "### Installation \n",
    "\n",
    "Please run these codes in order to access the database."
   ]
  },
  {
   "cell_type": "code",
   "execution_count": 1,
   "metadata": {},
   "outputs": [],
   "source": [
    "# A few packages need to be installed for the code to run.\n",
    "import os\n",
    "\n",
    "import pandas as pd\n",
    "import numpy as np\n",
    "import matplotlib.pyplot as plt"
   ]
  },
  {
   "cell_type": "code",
   "execution_count": 2,
   "metadata": {},
   "outputs": [],
   "source": [
    "# File path is /TomBraileyFinalProject/\n",
    "os.chdir('modules')\n",
    "from tbrailey_final_project_functions import *\n",
    "from test_functions import *\n",
    "os.chdir('../')"
   ]
  },
  {
   "cell_type": "markdown",
   "metadata": {},
   "source": [
    "### PRS Code Book Information\n",
    "\n",
    "The variable names in the PRS code book are not necessarily intuitive. Below is a list of variables which you can learn more about. Note, \"xx\" is just a placeholder for a given year. Simply input one of the above variables and a description will be provided.\n",
    "\n",
    "`country_present()` returns a list of all the countries that you can reference.\n",
    "\n",
    "* Code \n",
    "* Country\n",
    "* PRSxxCC\n",
    "* PRSxxGE\n",
    "* PRSxxPV\n",
    "* PRSxxRL\n",
    "* PRSxxRQ\n",
    "* PRSxxVA"
   ]
  },
  {
   "cell_type": "code",
   "execution_count": 3,
   "metadata": {},
   "outputs": [
    {
     "name": "stdout",
     "output_type": "stream",
     "text": [
      "What political risk metric would you like to learn about? PRSxxGE\n",
      "Here is more information on PRSxxGE:\n",
      "\u001b[1m\u001b[4mGovernment Effectiveness: Bureaucratic quality\u001b[0m\n"
     ]
    },
    {
     "data": {
      "text/plain": [
       "'PRSxxGE'"
      ]
     },
     "execution_count": 3,
     "metadata": {},
     "output_type": "execute_result"
    }
   ],
   "source": [
    "prs_code_book_search()"
   ]
  },
  {
   "cell_type": "code",
   "execution_count": 4,
   "metadata": {},
   "outputs": [
    {
     "data": {
      "text/plain": [
       "[('Albania',),\n",
       " ('Algeria',),\n",
       " ('Angola',),\n",
       " ('Argentina',),\n",
       " ('Armenia',),\n",
       " ('Australia',),\n",
       " ('Austria',),\n",
       " ('Azerbaijan',),\n",
       " ('Bahamas',),\n",
       " ('Bahrain',),\n",
       " ('Bangladesh',),\n",
       " ('Belarus',),\n",
       " ('Belgium',),\n",
       " ('Bolivia',),\n",
       " ('Botswana',),\n",
       " ('Brazil',),\n",
       " ('Brunei',),\n",
       " ('Bulgaria',),\n",
       " ('Burkina Faso',),\n",
       " ('Cameroon',),\n",
       " ('Canada',),\n",
       " ('Chile',),\n",
       " ('China',),\n",
       " ('Colombia',),\n",
       " ('Republic of the Congo',),\n",
       " ('Democratic Republic of the Congo',),\n",
       " ('Costa Rica',),\n",
       " (\"Côte d'Ivoire\",),\n",
       " ('Croatia',),\n",
       " ('Cuba',),\n",
       " ('Cyprus',),\n",
       " ('Czech Republic',),\n",
       " ('Denmark',),\n",
       " ('Dominican Republic',),\n",
       " ('Ecuador',),\n",
       " ('Egypt',),\n",
       " ('El Salvador',),\n",
       " ('Estonia',),\n",
       " ('Ethiopia',),\n",
       " ('Finland',),\n",
       " ('France',),\n",
       " ('Gabon',),\n",
       " ('Gambia',),\n",
       " ('Germany',),\n",
       " ('Ghana',),\n",
       " ('Greece',),\n",
       " ('Guatemala',),\n",
       " ('Guinea',),\n",
       " ('Guinea-Bissau',),\n",
       " ('Guyana',),\n",
       " ('Haiti',),\n",
       " ('Honduras',),\n",
       " ('Hong Kong',),\n",
       " ('Hungary',),\n",
       " ('Iceland',),\n",
       " ('India',),\n",
       " ('Indonesia',),\n",
       " ('Iran',),\n",
       " ('Iraq',),\n",
       " ('Ireland',),\n",
       " ('Israel',),\n",
       " ('Italy',),\n",
       " ('Jamaica',),\n",
       " ('Japan',),\n",
       " ('Jordan',),\n",
       " ('Kazakhstan',),\n",
       " ('Kenya',),\n",
       " ('North Korea',),\n",
       " ('South Korea',),\n",
       " ('Kuwait',),\n",
       " ('Latvia',),\n",
       " ('Lebanon',),\n",
       " ('Liberia',),\n",
       " ('Libya',),\n",
       " ('Lithuania',),\n",
       " ('Luxembourg',),\n",
       " ('Madagascar',),\n",
       " ('Malawi',),\n",
       " ('Malaysia',),\n",
       " ('Mali',),\n",
       " ('Malta',),\n",
       " ('Mexico',),\n",
       " ('Moldova',),\n",
       " ('Mongolia',),\n",
       " ('Morocco',),\n",
       " ('Mozambique',),\n",
       " ('Myanmar',),\n",
       " ('Namibia',),\n",
       " ('Netherlands',),\n",
       " ('New Zealand',),\n",
       " ('Nicaragua',),\n",
       " ('Niger',),\n",
       " ('Nigeria',),\n",
       " ('Norway',),\n",
       " ('Oman',),\n",
       " ('Pakistan',),\n",
       " ('Panama',),\n",
       " ('Papua New Guinea',),\n",
       " ('Paraguay',),\n",
       " ('Peru',),\n",
       " ('Philippines',),\n",
       " ('Poland',),\n",
       " ('Portugal',),\n",
       " ('Qatar',),\n",
       " ('Romania',),\n",
       " ('Russia',),\n",
       " ('Saudi Arabia',),\n",
       " ('Senegal',),\n",
       " ('Serbia',),\n",
       " ('Sierra Leone',),\n",
       " ('Singapore',),\n",
       " ('Slovak Republic',),\n",
       " ('Slovenia',),\n",
       " ('Somalia',),\n",
       " ('South Africa',),\n",
       " ('Spain',),\n",
       " ('Sri Lanka',),\n",
       " ('Sudan',),\n",
       " ('Suriname',),\n",
       " ('Sweden',),\n",
       " ('Switzerland',),\n",
       " ('Syria',),\n",
       " ('Taiwan',),\n",
       " ('Tanzania',),\n",
       " ('Thailand',),\n",
       " ('Togo',),\n",
       " ('Trinidad and Tobago',),\n",
       " ('Tunisia',),\n",
       " ('Turkey',),\n",
       " ('United Arab Emirates',),\n",
       " ('Uganda',),\n",
       " ('Ukraine',),\n",
       " ('United Kingdom',),\n",
       " ('United States',),\n",
       " ('Uruguay',),\n",
       " ('Venezuela',),\n",
       " ('Vietnam',),\n",
       " ('Yemen',),\n",
       " ('Zambia',),\n",
       " ('Zimbabwe',)]"
      ]
     },
     "execution_count": 4,
     "metadata": {},
     "output_type": "execute_result"
    }
   ],
   "source": [
    "country_present()"
   ]
  },
  {
   "cell_type": "markdown",
   "metadata": {},
   "source": [
    "### Country Subset\n",
    "\n",
    "Given that the dataset's unit-of-analysis is country, there are a lot of rows. Subset the data by choosing a country you want to learn more about."
   ]
  },
  {
   "cell_type": "code",
   "execution_count": 7,
   "metadata": {},
   "outputs": [
    {
     "name": "stdout",
     "output_type": "stream",
     "text": [
      "Please type a country of interest here: Albania\n",
      "Thank you. Below is a table summarizing political risk scores for Albania.\n"
     ]
    },
    {
     "data": {
      "text/html": [
       "<div>\n",
       "<style scoped>\n",
       "    .dataframe tbody tr th:only-of-type {\n",
       "        vertical-align: middle;\n",
       "    }\n",
       "\n",
       "    .dataframe tbody tr th {\n",
       "        vertical-align: top;\n",
       "    }\n",
       "\n",
       "    .dataframe thead th {\n",
       "        text-align: right;\n",
       "    }\n",
       "</style>\n",
       "<table border=\"1\" class=\"dataframe\">\n",
       "  <thead>\n",
       "    <tr style=\"text-align: right;\">\n",
       "      <th></th>\n",
       "      <th>Country</th>\n",
       "      <th>Code</th>\n",
       "      <th>PRS17VA</th>\n",
       "      <th>PRS17PV</th>\n",
       "      <th>PRS17GE</th>\n",
       "      <th>PRS17RQ</th>\n",
       "      <th>PRS17RL</th>\n",
       "      <th>PRS17CC</th>\n",
       "      <th>PRS16VA</th>\n",
       "      <th>PRS16PV</th>\n",
       "      <th>...</th>\n",
       "      <th>PRS98GE</th>\n",
       "      <th>PRS98RQ</th>\n",
       "      <th>PRS98RL</th>\n",
       "      <th>PRS98CC</th>\n",
       "      <th>PRS96VA</th>\n",
       "      <th>PRS96PV</th>\n",
       "      <th>PRS96GE</th>\n",
       "      <th>PRS96RQ</th>\n",
       "      <th>PRS96RL</th>\n",
       "      <th>PRS96CC</th>\n",
       "    </tr>\n",
       "  </thead>\n",
       "  <tbody>\n",
       "    <tr>\n",
       "      <th>0</th>\n",
       "      <td>Albania</td>\n",
       "      <td>ALB</td>\n",
       "      <td>0.83</td>\n",
       "      <td>0.76</td>\n",
       "      <td>0.5</td>\n",
       "      <td>0.64</td>\n",
       "      <td>0.42</td>\n",
       "      <td>0.42</td>\n",
       "      <td>0.83</td>\n",
       "      <td>0.76</td>\n",
       "      <td>...</td>\n",
       "      <td>0.25</td>\n",
       "      <td>0.27</td>\n",
       "      <td>0.5</td>\n",
       "      <td>0.5</td>\n",
       "      <td>0.5</td>\n",
       "      <td>0.89</td>\n",
       "      <td>0.25</td>\n",
       "      <td>0.45</td>\n",
       "      <td>0.67</td>\n",
       "      <td>0.33</td>\n",
       "    </tr>\n",
       "  </tbody>\n",
       "</table>\n",
       "<p>1 rows × 116 columns</p>\n",
       "</div>"
      ],
      "text/plain": [
       "   Country Code  PRS17VA  PRS17PV  PRS17GE  PRS17RQ  PRS17RL  PRS17CC  \\\n",
       "0  Albania  ALB     0.83     0.76      0.5     0.64     0.42     0.42   \n",
       "\n",
       "   PRS16VA  PRS16PV   ...     PRS98GE  PRS98RQ  PRS98RL  PRS98CC  PRS96VA  \\\n",
       "0     0.83     0.76   ...        0.25     0.27      0.5      0.5      0.5   \n",
       "\n",
       "   PRS96PV  PRS96GE  PRS96RQ  PRS96RL  PRS96CC  \n",
       "0     0.89     0.25     0.45     0.67     0.33  \n",
       "\n",
       "[1 rows x 116 columns]"
      ]
     },
     "execution_count": 7,
     "metadata": {},
     "output_type": "execute_result"
    }
   ],
   "source": [
    "my_country = input(\"Please type a country of interest here: \")\n",
    "\n",
    "country_info(my_country)"
   ]
  },
  {
   "cell_type": "markdown",
   "metadata": {},
   "source": [
    "### Country Graphics \n",
    "\n",
    "Viewing raw data is not necessarily intuitive. Below you can graph the political risk scores for your chosen country from 1996 through to 2017. Simply type \"yes\" when prompted, and a visualization will appear."
   ]
  },
  {
   "cell_type": "code",
   "execution_count": 8,
   "metadata": {},
   "outputs": [
    {
     "name": "stdout",
     "output_type": "stream",
     "text": [
      "Thank you. Below is a table summarizing political risk scores for Albania.\n",
      "Would you like to graph your subset? yes\n"
     ]
    },
    {
     "data": {
      "image/png": "[encoded data removed]",
      "text/plain": [
       "<Figure size 1080x360 with 1 Axes>"
      ]
     },
     "metadata": {
      "needs_background": "light"
     },
     "output_type": "display_data"
    }
   ],
   "source": [
    "country_graph(my_country, country_sub = country_info(my_country))"
   ]
  },
  {
   "cell_type": "markdown",
   "metadata": {},
   "source": [
    "### Year Subset\n",
    "\n",
    "Viewing that data is difficult in a notebook given the number of time/risk variables. Here, you can subset your original country by a given year. Subset the data by inputting a numerical year value."
   ]
  },
  {
   "cell_type": "code",
   "execution_count": 10,
   "metadata": {},
   "outputs": [
    {
     "name": "stdout",
     "output_type": "stream",
     "text": [
      "Which year for Albania would you like to look at? 2000\n",
      "Thank you. Below is a table summarizing political risk scores for Albania.\n",
      "Here is information for 2000\n"
     ]
    },
    {
     "data": {
      "text/html": [
       "<div>\n",
       "<style scoped>\n",
       "    .dataframe tbody tr th:only-of-type {\n",
       "        vertical-align: middle;\n",
       "    }\n",
       "\n",
       "    .dataframe tbody tr th {\n",
       "        vertical-align: top;\n",
       "    }\n",
       "\n",
       "    .dataframe thead th {\n",
       "        text-align: right;\n",
       "    }\n",
       "</style>\n",
       "<table border=\"1\" class=\"dataframe\">\n",
       "  <thead>\n",
       "    <tr style=\"text-align: right;\">\n",
       "      <th></th>\n",
       "      <th>PRS00VA</th>\n",
       "      <th>PRS00PV</th>\n",
       "      <th>PRS00GE</th>\n",
       "      <th>PRS00RQ</th>\n",
       "      <th>PRS00RL</th>\n",
       "      <th>PRS00CC</th>\n",
       "    </tr>\n",
       "  </thead>\n",
       "  <tbody>\n",
       "    <tr>\n",
       "      <th>0</th>\n",
       "      <td>0.75</td>\n",
       "      <td>0.78</td>\n",
       "      <td>0.25</td>\n",
       "      <td>0.45</td>\n",
       "      <td>0.33</td>\n",
       "      <td>0.33</td>\n",
       "    </tr>\n",
       "  </tbody>\n",
       "</table>\n",
       "</div>"
      ],
      "text/plain": [
       "   PRS00VA  PRS00PV  PRS00GE  PRS00RQ  PRS00RL  PRS00CC\n",
       "0     0.75     0.78     0.25     0.45     0.33     0.33"
      ]
     },
     "execution_count": 10,
     "metadata": {},
     "output_type": "execute_result"
    }
   ],
   "source": [
    "my_year = input(\"Which year for \" + my_country + \" would you like to look at? \")\n",
    "    \n",
    "year_info(my_year, country_sub = country_info(my_country))"
   ]
  },
  {
   "cell_type": "markdown",
   "metadata": {},
   "source": [
    "### Year Graphics\n",
    "\n",
    "While an easy-to-read table is often a good method of data presentation, it can often be more interpretable when presented as a graphic. This function turns the country-year subset into a simple graph. Simply type \"yes\" when prompted, and a visualization will appear."
   ]
  },
  {
   "cell_type": "code",
   "execution_count": 11,
   "metadata": {},
   "outputs": [
    {
     "name": "stdout",
     "output_type": "stream",
     "text": [
      "Would you like to graph your subset? yes\n",
      "Thank you. Below is a table summarizing political risk scores for Albania.\n",
      "Here is information for 2000\n"
     ]
    },
    {
     "data": {
      "image/png": "[encoded data removed]",
      "text/plain": [
       "<Figure size 432x288 with 1 Axes>"
      ]
     },
     "metadata": {
      "needs_background": "light"
     },
     "output_type": "display_data"
    }
   ],
   "source": [
    "year_graph(my_year, my_country)"
   ]
  },
  {
   "cell_type": "markdown",
   "metadata": {},
   "source": [
    "### Test Functions \n",
    "\n",
    "Though the code in the .ipynb file contains its own test functions (in that it returns an error when an incorrect variable is provided) the functions below ensure that the inputs and outputs of the code are the correct types, and serve to supplement the main code in the script. The script for the test functions can be found in the /modules folder. NOTE: Please ingore the outputs of these test functions. "
   ]
  },
  {
   "cell_type": "code",
   "execution_count": 13,
   "metadata": {},
   "outputs": [
    {
     "name": "stdout",
     "output_type": "stream",
     "text": [
      "What political risk metric would you like to learn about? PRSxxCC\n",
      "Here is more information on PRSxxCC:\n",
      "\u001b[1m\u001b[4mControl of Corruption: Corruption\u001b[0m\n",
      "What political risk metric would you like to learn about? PRSxxGE\n",
      "Here is more information on PRSxxGE:\n",
      "\u001b[1m\u001b[4mGovernment Effectiveness: Bureaucratic quality\u001b[0m\n"
     ]
    },
    {
     "ename": "AssertionError",
     "evalue": "",
     "output_type": "error",
     "traceback": [
      "\u001b[0;31m---------------------------------------------------------------------------\u001b[0m",
      "\u001b[0;31mAssertionError\u001b[0m                            Traceback (most recent call last)",
      "\u001b[0;32m<ipython-input-13-fd11328f48b1>\u001b[0m in \u001b[0;36m<module>\u001b[0;34m()\u001b[0m\n\u001b[0;32m----> 1\u001b[0;31m \u001b[0mtest_prs_code_book_search\u001b[0m\u001b[0;34m(\u001b[0m\u001b[0;34m)\u001b[0m\u001b[0;34m\u001b[0m\u001b[0;34m\u001b[0m\u001b[0m\n\u001b[0m\u001b[1;32m      2\u001b[0m \u001b[0mtest_dict_key\u001b[0m\u001b[0;34m(\u001b[0m\u001b[0;34m)\u001b[0m\u001b[0;34m\u001b[0m\u001b[0;34m\u001b[0m\u001b[0m\n\u001b[1;32m      3\u001b[0m \u001b[0mtest_country_info\u001b[0m\u001b[0;34m(\u001b[0m\u001b[0;34m)\u001b[0m\u001b[0;34m\u001b[0m\u001b[0;34m\u001b[0m\u001b[0m\n\u001b[1;32m      4\u001b[0m \u001b[0mtest_year_info\u001b[0m\u001b[0;34m(\u001b[0m\u001b[0;34m)\u001b[0m\u001b[0;34m\u001b[0m\u001b[0;34m\u001b[0m\u001b[0m\n",
      "\u001b[0;32m~/TomBraileyFinalProject/modules/test_functions.py\u001b[0m in \u001b[0;36mtest_prs_code_book_search\u001b[0;34m()\u001b[0m\n\u001b[1;32m     36\u001b[0m     \u001b[0;32massert\u001b[0m \u001b[0mtype\u001b[0m\u001b[0;34m(\u001b[0m\u001b[0mprs_code_book\u001b[0m\u001b[0;34m)\u001b[0m \u001b[0;32mis\u001b[0m \u001b[0mdict\u001b[0m\u001b[0;34m\u001b[0m\u001b[0;34m\u001b[0m\u001b[0m\n\u001b[1;32m     37\u001b[0m \u001b[0;34m\u001b[0m\u001b[0m\n\u001b[0;32m---> 38\u001b[0;31m     \u001b[0;32massert\u001b[0m \u001b[0mcallable\u001b[0m \u001b[0;34m(\u001b[0m\u001b[0mprs_code_book_search\u001b[0m\u001b[0;34m(\u001b[0m\u001b[0;34m)\u001b[0m\u001b[0;34m)\u001b[0m\u001b[0;34m\u001b[0m\u001b[0;34m\u001b[0m\u001b[0m\n\u001b[0m\u001b[1;32m     39\u001b[0m \u001b[0;34m\u001b[0m\u001b[0m\n\u001b[1;32m     40\u001b[0m \u001b[0;34m\u001b[0m\u001b[0m\n",
      "\u001b[0;31mAssertionError\u001b[0m: "
     ]
    }
   ],
   "source": [
    "test_prs_code_book_search()\n",
    "test_dict_key()\n",
    "test_country_info()\n",
    "test_year_info()"
   ]
  }
 ],
 "metadata": {
  "kernelspec": {
   "display_name": "Python 3",
   "language": "python",
   "name": "python3"
  },
  "language_info": {
   "codemirror_mode": {
    "name": "ipython",
    "version": 3
   },
   "file_extension": ".py",
   "mimetype": "text/x-python",
   "name": "python",
   "nbconvert_exporter": "python",
   "pygments_lexer": "ipython3",
   "version": "3.6.7"
  }
 },
 "nbformat": 4,
 "nbformat_minor": 2
}
